{
 "cells": [
  {
   "cell_type": "markdown",
   "id": "03ef0712",
   "metadata": {},
   "source": [
    "# Question 1\n",
    "data types are"
   ]
  },
  {
   "cell_type": "code",
   "execution_count": null,
   "id": "2be86dc4",
   "metadata": {},
   "outputs": [],
   "source": [
    "5 - int\n",
    "5.0 - Double\n",
    "5 > 1 - bool\n",
    "'5' - char\n",
    "5 * 2 - int\n",
    "'5' * 2 - undefined\n",
    "'5' + '2' - char\n",
    "5/2 - int\n",
    "5 % 2 - int\n",
    "{5,2,2} - \n",
    "5==3 - bool\n",
    "pi - float\n",
    "\n"
   ]
  },
  {
   "cell_type": "markdown",
   "id": "5430a94a",
   "metadata": {},
   "source": [
    "# Question2\n",
    "a)count letters"
   ]
  },
  {
   "cell_type": "code",
   "execution_count": null,
   "id": "bd0c833e",
   "metadata": {},
   "outputs": [],
   "source": [
    "using System;\n",
    "class Program\n",
    "  {\n",
    "    static void Main(string[] args)\n",
    "    {\n",
    "        string testStr = \"docious\";\n",
    "        int count=0;\n",
    "        foreach (char c in testStr){\n",
    "        count++;\n",
    "        }\n",
    "        Console.Write(count);\n",
    "    }\n",
    "}\n"
   ]
  },
  {
   "cell_type": "markdown",
   "id": "9eed05e0",
   "metadata": {},
   "source": [
    "2 B)'Supercalifragilisticexpialidocious' contain 'ice' as a substring"
   ]
  },
  {
   "cell_type": "code",
   "execution_count": null,
   "id": "cd8e523d",
   "metadata": {},
   "outputs": [],
   "source": [
    "using System;\n",
    "\n",
    "namespace finnding\n",
    "{\n",
    "  class ice\n",
    "  {\n",
    "    static void Main(string[] args)\n",
    "    {\n",
    "     string s1 = \"'Supercalifragilisticexpialidocious\";\n",
    "     string s2 = \"ice\";\n",
    "     bool b = s1.Contains(s2);\n",
    "     Console.WriteLine(\"'{0}' is in the string '{1}': {2}\",s2, s1, b);\n",
    "    }\n",
    "  }\n",
    "}"
   ]
  },
  {
   "cell_type": "markdown",
   "id": "e5cfc4f6",
   "metadata": {},
   "source": [
    "2 c) Longest word"
   ]
  },
  {
   "cell_type": "code",
   "execution_count": null,
   "id": "72ebd86b",
   "metadata": {},
   "outputs": [],
   "source": [
    "using System;\n",
    "namespace MathClassCS\n",
    "{\n",
    "class Program\n",
    "  {\n",
    "    static void Main(string[] args)\n",
    "    {\n",
    "    string testStr1 = \"Supercalifragilisticeexpialidocious\";\n",
    "    int testStr1Len = testStr1.Length;\n",
    "    string testStr2 = \"Honorificabilitudinitatibus\";\n",
    "    int testStr2Len = testStr2.Length;\n",
    "    string testStr3 = \"Bababadalgharaghtakamminarronnkonn\";\n",
    "    int testStr3Len = testStr3.Length;\n",
    "    int maxValue = Math.Max(Math.Max(testStr1Len,testStr2Len),testStr3Len);\t\n",
    "    Console.Write(maxValue);\n",
    "     }\n",
    "}\n",
    "}"
   ]
  },
  {
   "cell_type": "markdown",
   "id": "6d12a08f",
   "metadata": {},
   "source": [
    "2 d) dictionary"
   ]
  },
  {
   "cell_type": "code",
   "execution_count": null,
   "id": "38387194",
   "metadata": {},
   "outputs": [],
   "source": []
  },
  {
   "cell_type": "markdown",
   "id": "deeb71cc",
   "metadata": {},
   "source": [
    "# Question 3\n",
    "function triangleArea(a,b,c)"
   ]
  },
  {
   "cell_type": "code",
   "execution_count": null,
   "id": "fffdc56c",
   "metadata": {},
   "outputs": [],
   "source": [
    "using System;\n",
    "using System.IO;\n",
    "namespace MathClassCS\n",
    "{\n",
    "class Program {\n",
    "   static void Main(string[] args) {\n",
    "      Double s1,s2,s3;\n",
    "      Double avgOfSides,area;\n",
    "      Console.WriteLine(\"Side 1: \");\n",
    "      s1 = Console.ReadLine();\n",
    "      Console.WriteLine(\"Side 2: \");\n",
    "      s2 = Console.ReadLine();\n",
    "      Console.WriteLine(\"Side 3: \");\n",
    "      s3 = Console.ReadLine();\n",
    "      avgOfSides = (s1+s2+s3)/3;\n",
    "      area = Math.Sqrt(sumOfSides * (sumOfSides - s1) * (sumOfSides - s2) * (sumOfSides - s3));\n",
    "      Console.WriteLine(area);\n",
    "   }\n",
    "}\n",
    "}"
   ]
  },
  {
   "cell_type": "markdown",
   "id": "07ceea2a",
   "metadata": {},
   "source": [
    "# Question 4\n",
    " separate odd and even integers in separate arrays. "
   ]
  },
  {
   "cell_type": "code",
   "execution_count": null,
   "id": "7f03ca16",
   "metadata": {},
   "outputs": [],
   "source": [
    "using System;\n",
    "using System.IO;\n",
    "namespace MathClassCS\n",
    "{\n",
    "    class Program \n",
    "    {\n",
    "        static void Main(string[] args) \n",
    "        {\n",
    "        int[] intLst = new int[];\n",
    "        int[] oddLst = new int[];\n",
    "        int[] evnLst = new int[];\n",
    "        int i,j,k;\n",
    "        Double sizeOfIntLst;\n",
    "        Console.WriteLine(\"Number of elements\");\n",
    "        sizeOfIntLst = Console.ReadLine();\n",
    "        for(i=0 ; i<sizeOfIntLst; i++)\n",
    "        {\n",
    "            intLst[i] = Console.ReadLine();\n",
    "        }\n",
    "        for(i=0;i<n;i++){\n",
    "            if (intLst[i]%2 == 0)\n",
    "            {\n",
    "                evnLst[j] = intLst[i];\n",
    "                j++;\n",
    "            }\n",
    "            else\n",
    "            {\n",
    "                oddLst[k] = intLst[i];\n",
    "                k++;\n",
    "            }\n",
    "        }\n",
    "        for(i=0;i<j;i++)\n",
    "        {\n",
    "        Console.Write(evn[i]);\n",
    "        }\n",
    "        for(i=0;i<k;i++){\n",
    "        Console.Write(odd[i]);\n",
    "        }\n",
    "    }\n",
    "    }\n",
    "}"
   ]
  },
  {
   "cell_type": "markdown",
   "id": "baba873a",
   "metadata": {},
   "source": [
    "# Question5\n",
    "A) function inside(x,y,x1,y1,x2,y2)"
   ]
  },
  {
   "cell_type": "code",
   "execution_count": null,
   "id": "f2aed3e2",
   "metadata": {},
   "outputs": [],
   "source": [
    "using System;\n",
    "using System.IO;\n",
    "public class Program \n",
    "    {\n",
    "   public static void Main(string[] args) \n",
    "   {\n",
    "        Double x,y,x1,y1,x2,y2;\n",
    "    Console.WriteLine(\"Enter the coordinates separated with a line:\");\n",
    "    x= Console.ReadLine();\n",
    "    y= Console.ReadLine();\n",
    "    x1 = Console.ReadLine();\n",
    "    y1 = Console.ReadLine();\n",
    "    x2 = Console.ReadLine();\n",
    "    y2 = Console.ReadLine();\n",
    "    bool isInside = Inside(x,y,x1,y1,x2,y2);\n",
    "    Console.Write(isInside);\n",
    "   }\n",
    "\n",
    "   public static bool Inside(Double x, Double y, Double x1, Double y1, Double x2, Double y2)\n",
    "   {\n",
    "    if( (x>=x1 && y>=y1) && (x<=x2 && y<=y2)){\n",
    "        return true;\n",
    "    }\n",
    "    else\n",
    "    {\n",
    "        return false;\n",
    "    }\n",
    "   }\n",
    "}"
   ]
  },
  {
   "cell_type": "markdown",
   "id": "2a7b763c",
   "metadata": {},
   "source": [
    "#b function inside(x,y,x1,y1,x2,y2)"
   ]
  },
  {
   "cell_type": "code",
   "execution_count": null,
   "id": "aa3c1047",
   "metadata": {},
   "outputs": [],
   "source": [
    "using System;\n",
    "using System.IO;\n",
    "public class Program {\n",
    "   public static void Main(string[] args) {\n",
    "    bool isInside1 = Inside(1,1,0.3,0.5,1.1,0.7);\n",
    "    bool isInside2 = Inside(1,1,0.5,0.2,1.1,2);\n",
    "    if(isInside1 == true && isInside2 == true){\n",
    "        Console.Write(\"The point lies inside both the rectangle\");\n",
    "    }\n",
    "    else if(isInside1 == false && isInside2 == true)\n",
    "    {\n",
    "        Console.Write(\"The point lies inside rectangle 1\");\n",
    "    }\n",
    "    else\n",
    "    {\n",
    "        Console.Write(\"The point lies inside rectangle 2\");\n",
    "    }\n",
    "   }\n",
    "\n",
    "   public static bool Inside(Double x, Double y, Double x1, Double y1, Double x2, Double y2){\n",
    "    if( (x>=x1 && y>=y1) && (x<=x2 && y<=y2)){\n",
    "    return true;\n",
    "    }\n",
    "    else\n",
    "    {\n",
    "    return false;\n",
    "    }\n",
    "   }\n",
    "}\n",
    " "
   ]
  }
 ],
 "metadata": {
  "kernelspec": {
   "display_name": ".NET (C#)",
   "language": "C#",
   "name": ".net-csharp"
  },
  "language_info": {
   "file_extension": ".cs",
   "mimetype": "text/x-csharp",
   "name": "C#",
   "pygments_lexer": "csharp",
   "version": "9.0"
  }
 },
 "nbformat": 4,
 "nbformat_minor": 5
}
