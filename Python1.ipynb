{
 "cells": [
  {
   "cell_type": "markdown",
   "id": "13228db7",
   "metadata": {},
   "source": [
    "# Question 6\n",
    "function pig()"
   ]
  },
  {
   "cell_type": "code",
   "execution_count": 41,
   "id": "661eef60",
   "metadata": {},
   "outputs": [
    {
     "name": "stdout",
     "output_type": "stream",
     "text": [
      "Enter a sentence you want to convert to pig latin: Happy\n",
      "appyhay\n"
     ]
    }
   ],
   "source": [
    "def pig():\n",
    "    sentence = input(\"Enter a sentence you want to convert to pig latin: \")\n",
    "\n",
    "    sentence = sentence.lower() #convert it in lowercase\n",
    "    if sentence[0] in \"aeiou\": #vowels\n",
    "        output=sentence+'way'\n",
    "        print(output)\n",
    "\n",
    "    else:\n",
    "        output=sentence[1:]+sentence[0]+'ay'\n",
    "        print(output)\n",
    "pig()"
   ]
  },
  {
   "cell_type": "markdown",
   "id": "2e7444f4",
   "metadata": {},
   "source": [
    "# Question7\n",
    "bloodcount fuction"
   ]
  },
  {
   "cell_type": "code",
   "execution_count": null,
   "id": "2c5c535b",
   "metadata": {},
   "outputs": [],
   "source": [
    "def bldcount(\"bloodtype.txt\"):\n",
    "    infile=open(bloodtype)\n",
    "    \n",
    "    \n"
   ]
  },
  {
   "cell_type": "markdown",
   "id": "297ee6c8",
   "metadata": {},
   "source": [
    "# Question 8\n",
    "Write a function curconv()"
   ]
  },
  {
   "cell_type": "code",
   "execution_count": null,
   "id": "acc72be7",
   "metadata": {},
   "outputs": [],
   "source": [
    "import requests\n",
    "from tkinter\n",
    "import *\n",
    "import tkinter as tk\n",
    "from tkinter import ttk\n",
    "\n",
    "class RealTimeCurrencyConverter():\n",
    "    def __init__(self,url):\n",
    "        self.d= requests.get(url).json()\n",
    "        self.c = self.d['rate']\n",
    "  \n",
    "def convert(country_cur,amount):\n",
    "        {\n",
    "                if \n",
    "                {\n",
    "                    country_cur != 'USD':\n",
    "                    amount = amount / self.rates[from_currency]\n",
    "                }\n",
    "                else\n",
    "                    return amount\n",
    "        \n",
    "        }"
   ]
  },
  {
   "cell_type": "markdown",
   "id": "1b0d3c1b",
   "metadata": {},
   "source": [
    "# Question 9\n",
    "Identify what type of exception each will cause\n"
   ]
  },
  {
   "cell_type": "markdown",
   "id": "29d3be71",
   "metadata": {},
   "source": [
    "1)Trying to add incompatible variables, as in\n",
    "adding 6 + ‘a’\n",
    "=> exception ArithmeticError\n",
    "\n",
    "2)Referring to the 12th item of a list that has only 10\n",
    "items\n",
    "=>IndexError\n",
    "\n",
    "3)Using a value that is out of range for a function’s\n",
    "input, such as calling math.sqrt(-1.0)\n",
    "=>domain error \n",
    "\n",
    "4)Using an undeclared variable, such as print(x)\n",
    "when x has not been defined\n",
    "=>NameError\n",
    "\n",
    "5)Trying to open a file that does not exist, such as\n",
    "mistyping the file name or looking in the wrong\n",
    "directory\n",
    "=>FileNotFoundError"
   ]
  },
  {
   "cell_type": "markdown",
   "id": "54910223",
   "metadata": {},
   "source": [
    "# Question 10\n",
    "frequencies()"
   ]
  },
  {
   "cell_type": "code",
   "execution_count": 46,
   "id": "d659b856",
   "metadata": {},
   "outputs": [
    {
     "data": {
      "text/plain": [
       "[4, 1, 0, 0, 0, 0, 1, 2, 3, 0, 1, 0, 0, 3, 3, 0, 0, 1, 3, 6, 1, 0, 2, 0, 0, 0]"
      ]
     },
     "execution_count": 46,
     "metadata": {},
     "output_type": "execute_result"
    }
   ],
   "source": [
    "from collections import Counter \n",
    "\n",
    "def character_distribution_of_string(pass_string):\n",
    "    #taking all the alphabets to make count\n",
    "  letters = [\"a\",\"b\",\"c\",\"d\",\"e\",\"f\",\"g\",\"h\",\"i\",\"j\",\"k\",\"l\",\"m\",\"n\",\"o\",\"p\",\"q\",\"r\",\"s\",\"t\",\"u\",\"v\",\"w\",\"x\",\"y\",\"z\"]\n",
    "  chars_in_string = Counter(pass_string)\n",
    "  res = {} #blank list for storing\n",
    "  for letter in letters:\n",
    "    if(letter in chars_in_string):\n",
    "      res[letter] = chars_in_string[letter]\n",
    "    else: \n",
    "      res[letter] = 0 \n",
    "  return(res)\n",
    "\n",
    "list(character_distribution_of_string(\"This is a string that I want to know about\").values())\n"
   ]
  },
  {
   "cell_type": "code",
   "execution_count": null,
   "id": "458ef9b8",
   "metadata": {},
   "outputs": [],
   "source": []
  }
 ],
 "metadata": {
  "kernelspec": {
   "display_name": "Python 3",
   "language": "python",
   "name": "python3"
  },
  "language_info": {
   "codemirror_mode": {
    "name": "ipython",
    "version": 3
   },
   "file_extension": ".py",
   "mimetype": "text/x-python",
   "name": "python",
   "nbconvert_exporter": "python",
   "pygments_lexer": "ipython3",
   "version": "3.8.8"
  }
 },
 "nbformat": 4,
 "nbformat_minor": 5
}
